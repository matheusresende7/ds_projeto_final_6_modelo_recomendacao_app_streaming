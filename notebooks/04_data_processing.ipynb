{
 "cells": [
  {
   "cell_type": "markdown",
   "metadata": {},
   "source": [
    "# 04. Data Processing"
   ]
  },
  {
   "cell_type": "markdown",
   "metadata": {},
   "source": [
    "### Importando as bibliotecas"
   ]
  },
  {
   "cell_type": "code",
   "execution_count": 1,
   "metadata": {},
   "outputs": [],
   "source": [
    "import sys\n",
    "sys.path.append('..')\n",
    "import pandas as pd\n",
    "from ydata_profiling import ProfileReport\n",
    "import functions.fn_stats as fn_stats\n",
    "import functions.fn_charts as fn_charts\n",
    "import params.consts as consts"
   ]
  },
  {
   "cell_type": "markdown",
   "metadata": {},
   "source": [
    "### Lendo o dataset tratado e visualizando o overview atual"
   ]
  },
  {
   "cell_type": "code",
   "execution_count": 2,
   "metadata": {},
   "outputs": [],
   "source": [
    "df = pd.read_csv(consts.DATASET_RAW) # Armazenando o dataset em uma variável"
   ]
  },
  {
   "cell_type": "code",
   "execution_count": null,
   "metadata": {},
   "outputs": [],
   "source": [
    "df # Exibindo as 3 primeiras linhas do dataset"
   ]
  },
  {
   "cell_type": "code",
   "execution_count": null,
   "metadata": {},
   "outputs": [],
   "source": [
    "df.info() # Exibindo as informações das variáveis do dataset"
   ]
  },
  {
   "cell_type": "code",
   "execution_count": null,
   "metadata": {},
   "outputs": [],
   "source": [
    "fn_stats.describe(df) # Usando a função que exibe as estatísticas das colunas numéricas"
   ]
  },
  {
   "cell_type": "code",
   "execution_count": null,
   "metadata": {},
   "outputs": [],
   "source": [
    "df.describe(exclude='number') # Exibindo as estatísticas das colunas categóricas"
   ]
  },
  {
   "cell_type": "code",
   "execution_count": null,
   "metadata": {},
   "outputs": [],
   "source": [
    "df.isnull().sum() # Somando todos os valores nulos de cada coluna"
   ]
  },
  {
   "cell_type": "markdown",
   "metadata": {},
   "source": [
    "### Corrigindo os tipos de dados das colunas\n",
    "- **Dt_Customer:** Convertendo essa coluna para o formato de data."
   ]
  },
  {
   "cell_type": "code",
   "execution_count": 8,
   "metadata": {},
   "outputs": [],
   "source": [
    "df['Dt_Customer'] = pd.to_datetime(df['Dt_Customer'], format='%Y-%m-%d') # Convertendo a coluna para o formato de data"
   ]
  },
  {
   "cell_type": "markdown",
   "metadata": {},
   "source": [
    "### Tratando as colunas com valores nulos/vazios\n",
    "- **Income:** Como essa coluna possui apenas 24 valores nulos em um univeso de 2.240 (o que representa cerca de 1% da base), optamos por remover essas linhas para seguir o projeto."
   ]
  },
  {
   "cell_type": "code",
   "execution_count": 9,
   "metadata": {},
   "outputs": [],
   "source": [
    "df = df.dropna(subset=['Income']) # Removendo as linhas com valores nulos da coluna"
   ]
  },
  {
   "cell_type": "markdown",
   "metadata": {},
   "source": [
    "### Criando colunas de tempo/idade\n",
    "- **Dt_Customer => Days_Since_Enrolled:** Criando essa coluna para usá-la de forma mais apropriada para os modelos, onde a informação de tempo/idade é mais relevante que uma data.\n",
    "- **Dt_Customer => Years_Since_Enrolled:** Criando essa coluna para usá-la de forma mais apropriada para os modelos, onde a informação de tempo/idade é mais relevante que uma data.\n",
    "- **Year_Birth => Age:** Criando essa coluna para usá-la de forma mais apropriada para os modelos, onde a informação de tempo/idade é mais relevante que uma data."
   ]
  },
  {
   "cell_type": "code",
   "execution_count": null,
   "metadata": {},
   "outputs": [],
   "source": [
    "df['Days_Since_Enrolled'] = df['Dt_Customer'].max() - df['Dt_Customer'] # Criando a coluna com a diferença do valor máximo das datas e a data de cadastro do cliente\n",
    "df['Days_Since_Enrolled'] = df['Days_Since_Enrolled'].dt.days # Convertendo o tempo para dias\n",
    "df['Years_Since_Enrolled'] = df['Days_Since_Enrolled'] // 365 # Criando a coluna apenas com anos inteiros (dividindo com 2 barras)\n",
    "df['Age'] = df['Dt_Customer'].max().year - df['Year_Birth'] # Criando a coluna com a idade dos clientes, fixando o valor máximmo das datas da campanha para que as idades não fiquem variando de acordo com o tempo que o código é rodado"
   ]
  },
  {
   "cell_type": "markdown",
   "metadata": {},
   "source": [
    "### Mesclando colunas com muitas categorias\n",
    "- **AgeGroup:** Criando essa coluna para agrupar os dados em intervalos. \n",
    "- **Marital_Status:** Agrupando melhor os dados dessa coluna."
   ]
  },
  {
   "cell_type": "code",
   "execution_count": null,
   "metadata": {},
   "outputs": [],
   "source": [
    "df['AgeGroup'] = pd.cut( # Criando essa coluna para agrupar as idades em intervalos padrões de cerca de 15 anos\n",
    "    df['Age'], # Definindo a coluna que será usada para criar os intervalos\n",
    "    bins=[18, 30, 45, 60, df['Age'].max()], # Definindo os intervalos\n",
    "    labels=['18-30', '31-45', '46-60', '61+'], # Definindo os rótulos de como os dados vão aparecer no dataset\n",
    "    include_lowest=True # Incluindo o valor inicial no intervalo\n",
    ")\n",
    "df['Marital_Status'] = df['Marital_Status'].replace( # Agrupando melhor os dados dessa coluna\n",
    "    {\n",
    "        'Alone': 'Single',\n",
    "        'Absurd': 'Single',\n",
    "        'YOLO': 'Single',\n",
    "        'Together': 'Partner',\n",
    "        'Married': 'Partner',\n",
    "        'Widow': 'Single',\n",
    "        'Single': 'Single',\n",
    "        'Divorced': 'Single',\n",
    "    }\n",
    ")"
   ]
  },
  {
   "cell_type": "code",
   "execution_count": null,
   "metadata": {},
   "outputs": [],
   "source": [
    "display(df['AgeGroup'].value_counts(normalize=True).map('{:.1%}'.format).sort_index()) # Verificando o resultado da transformação na coluna em %\n",
    "display(df['Marital_Status'].value_counts(normalize=True).map('{:.1%}'.format).sort_index()) # Verificando o resultado da transformação na coluna em %"
   ]
  },
  {
   "cell_type": "markdown",
   "metadata": {},
   "source": [
    "### Unificando colunas semelhantes\n",
    "- **Children:** Criando uma coluna com o total de dependentes do cliente.\n",
    "- **MntTotal:** Criando uma coluna com o total gastos em todas as categorias de produtos.\n",
    "- **AcceptedCmpTotal:** Criando uma coluna com o total de campanhas aceitas pelo cliente.\n",
    "- **NumTotalPurchases:** Criando uma coluna com o total de compras feitas pelo cliente."
   ]
  },
  {
   "cell_type": "code",
   "execution_count": null,
   "metadata": {},
   "outputs": [],
   "source": [
    "df['Children'] = df['Kidhome'] + df['Teenhome'] # Criando a coluna com o total de dependentes do cliente\n",
    "df['MntTotal'] = ( # Criando a coluna com o total gasto em todas as categorias de produtos\n",
    "    df['MntWines'] + \n",
    "    df['MntFruits'] + \n",
    "    df['MntMeatProducts'] + \n",
    "    df['MntFishProducts'] + \n",
    "    df['MntSweetProducts'] + \n",
    "    df['MntGoldProds']\n",
    ")\n",
    "df['AcceptedCmpTotal'] = ( # Criando a coluna com o total de campanhas aceitas pelo cliente\n",
    "    df['AcceptedCmp1'] + \n",
    "    df['AcceptedCmp2'] + \n",
    "    df['AcceptedCmp3'] + \n",
    "    df['AcceptedCmp4'] + \n",
    "    df['AcceptedCmp5'] \n",
    ")\n",
    "df['NumTotalPurchases'] = ( # Criando a coluna com o total de compras feitas pelo cliente\n",
    "    df['NumWebPurchases'] + \n",
    "    df['NumCatalogPurchases'] + \n",
    "    df['NumStorePurchases'] \n",
    ")"
   ]
  },
  {
   "cell_type": "code",
   "execution_count": null,
   "metadata": {},
   "outputs": [],
   "source": [
    "display(df['Children'].value_counts(normalize=True).map('{:.1%}'.format).sort_index()) # Verificando o resultado da transformação na coluna em %\n",
    "display(df['AcceptedCmpTotal'].value_counts(normalize=True).map('{:.1%}'.format).sort_index()) # Verificando o resultado da transformação na coluna em %"
   ]
  },
  {
   "cell_type": "markdown",
   "metadata": {},
   "source": [
    "### Criando colunas derivadas de outras\n",
    "- **HasChildren:** Criando essa coluna caso o cliente tenha dependentes ou não.\n",
    "- **MntRegularProds:** Criando essa coluna com o valor gasto somente em produtos regulares.\n",
    "- **HasAcceptedCmp:** Criando essa coluna caso o cliente tenha aceito alguma campanha ou não."
   ]
  },
  {
   "cell_type": "code",
   "execution_count": null,
   "metadata": {},
   "outputs": [],
   "source": [
    "df['HasChildren'] = df['Children'].apply(lambda x: 1 if x > 0 else 0) # Criando a coluna que verifica se o cliente tem dependentes através de uma função anônima (na própria linha de código)\n",
    "df['MntRegularProds'] = df['MntTotal'] - df['MntGoldProds'] # Criando a coluna com o valor gasto somente em produtos regulares\n",
    "df['HasAcceptedCmp'] = df['AcceptedCmpTotal'].apply(lambda x: 1 if x > 0 else 0) # Criando a coluna que verifica se o cliente já aceitou uma campanha através de uma função anônima (na própria linha de código)"
   ]
  },
  {
   "cell_type": "markdown",
   "metadata": {},
   "source": [
    "### Visualizando o dataset antes de tratar outliers e excluir colunas"
   ]
  },
  {
   "cell_type": "code",
   "execution_count": null,
   "metadata": {},
   "outputs": [],
   "source": [
    "df.head(3) # Exibindo as 3 primeiras linhas do dataset"
   ]
  },
  {
   "cell_type": "markdown",
   "metadata": {},
   "source": [
    "### Tratando as colunas com valores outliers\n",
    "- **Age:** Como são poucos outliers dentro do universo dos dados, vamos remover as linhas desses outliers.\n",
    "- **Income:** Como são poucos outliers dentro do universo dos dados, vamos remover as linhas desses outliers.\n",
    "- **MntTotal:** Como são poucos outliers dentro do universo dos dados e estão muitos próximos do limite superior, vamos manter as linhas desses outliers."
   ]
  },
  {
   "cell_type": "code",
   "execution_count": null,
   "metadata": {},
   "outputs": [],
   "source": [
    "fn_charts.boxplots(df,  ['Age', 'Income', 'MntTotal']) # Exibindo os gráficos de boxplots antes do tratamento"
   ]
  },
  {
   "cell_type": "code",
   "execution_count": null,
   "metadata": {},
   "outputs": [],
   "source": [
    "fn_stats.inspect_outliers(df, 'Age') # Usando a função para listar os outliers"
   ]
  },
  {
   "cell_type": "code",
   "execution_count": null,
   "metadata": {},
   "outputs": [],
   "source": [
    "fn_stats.inspect_outliers(df, 'Income') # Usando a função para listar os outliers"
   ]
  },
  {
   "cell_type": "code",
   "execution_count": 20,
   "metadata": {},
   "outputs": [],
   "source": [
    "df = df.drop(fn_stats.inspect_outliers(df,'Age').index) # Removendo os outliers \n",
    "df = df.drop(fn_stats.inspect_outliers(df,'Income').index) # Removendo os outliers "
   ]
  },
  {
   "cell_type": "code",
   "execution_count": null,
   "metadata": {},
   "outputs": [],
   "source": [
    "fn_charts.boxplots(df,  ['Age', 'Income', 'MntTotal']) # Exibindo os gráficos de boxplots antes do tratamento"
   ]
  },
  {
   "cell_type": "markdown",
   "metadata": {},
   "source": [
    "### Excluindo as colunas que contém valores únicos\n",
    "- **ID:** Excluindo a coluna ID para deixar o dataset apenas com informações relevantes, já que uma coluna com identificadores únicos para cada cliente não acrescenta em nada nesse estudo. E lembrando que ao remover a coluna de identificação única, é possível que o dataset passe a ter linhas duplicadas."
   ]
  },
  {
   "cell_type": "code",
   "execution_count": 22,
   "metadata": {},
   "outputs": [],
   "source": [
    "df = df.drop('ID', axis=1) # Excluindo as colunas com valores únicos"
   ]
  },
  {
   "cell_type": "markdown",
   "metadata": {},
   "source": [
    "### Excluindo as colunas que contém valores constantes\n",
    "- **Z_CostContact:** Excluindo a coluna Z_CostContact para deixar o dataset apenas com informações relevantes, já que uma coluna com valores únicos não acrescenta em nada nesse estudo.\n",
    "- **Z_Revenue:** Excluindo a coluna Z_Revenue para deixar o dataset apenas com informações relevantes, já que uma coluna com valores únicos não acrescenta em nada nesse estudo."
   ]
  },
  {
   "cell_type": "code",
   "execution_count": 23,
   "metadata": {},
   "outputs": [],
   "source": [
    "df = df.drop(['Z_CostContact', 'Z_Revenue'], axis=1) # Excluindo as colunas com valores constantes"
   ]
  },
  {
   "cell_type": "markdown",
   "metadata": {},
   "source": [
    "### Salvando o dataset processado"
   ]
  },
  {
   "cell_type": "code",
   "execution_count": 24,
   "metadata": {},
   "outputs": [],
   "source": [
    "df.to_csv(consts.DATASET_PROCESSED, index=False) # Salvando o dataset processado"
   ]
  },
  {
   "cell_type": "markdown",
   "metadata": {},
   "source": [
    "### Excluindo as colunas auxiliares\n",
    "- **Dt_Customer:** Excluindo a coluna para deixar o dataset apenas com informações relevantes.\n",
    "- **Year_Birth:** Excluindo a coluna para deixar o dataset apenas com informações relevantes.\n",
    "- **Kidhome:** Excluindo a coluna para deixar o dataset apenas com informações relevantes.\n",
    "- **Teenhome:** Excluindo a coluna para deixar o dataset apenas com informações relevantes.\n",
    "- **MntWines:** Excluindo a coluna para deixar o dataset apenas com informações relevantes.\n",
    "- **MntFruits:** Excluindo a coluna para deixar o dataset apenas com informações relevantes.\n",
    "- **MntMeatProducts:** Excluindo a coluna para deixar o dataset apenas com informações relevantes.\n",
    "- **MntFishProducts:** Excluindo a coluna para deixar o dataset apenas com informações relevantes.\n",
    "- **MntSweetProducts:** Excluindo a coluna para deixar o dataset apenas com informações relevantes.\n",
    "- **AcceptedCmp1:** Excluindo a coluna para deixar o dataset apenas com informações relevantes.\n",
    "- **AcceptedCmp2:** Excluindo a coluna para deixar o dataset apenas com informações relevantes.\n",
    "- **AcceptedCmp3:** Excluindo a coluna para deixar o dataset apenas com informações relevantes.\n",
    "- **AcceptedCmp4:** Excluindo a coluna para deixar o dataset apenas com informações relevantes.\n",
    "- **AcceptedCmp5:** Excluindo a coluna para deixar o dataset apenas com informações relevantes.\n",
    "- **NumWebPurchases:** Excluindo a coluna para deixar o dataset apenas com informações relevantes.\n",
    "- **NumCatalogPurchases:** Excluindo a coluna para deixar o dataset apenas com informações relevantes.\n",
    "- **NumStorePurchases:** Excluindo a coluna para deixar o dataset apenas com informações relevantes."
   ]
  },
  {
   "cell_type": "code",
   "execution_count": 25,
   "metadata": {},
   "outputs": [],
   "source": [
    "df = df.drop( # Excluindo as colunas auxiliares\n",
    "    [ \n",
    "        'Dt_Customer', \n",
    "        'Year_Birth', \n",
    "        'Kidhome',\n",
    "        'Teenhome',\n",
    "        'MntWines', \n",
    "        'MntFruits', \n",
    "        'MntMeatProducts', \n",
    "        'MntFishProducts', \n",
    "        'MntSweetProducts',\n",
    "        'AcceptedCmp1',\n",
    "        'AcceptedCmp2',\n",
    "        'AcceptedCmp3',\n",
    "        'AcceptedCmp4',\n",
    "        'AcceptedCmp5', \n",
    "        'NumWebPurchases', \n",
    "        'NumCatalogPurchases', \n",
    "        'NumStorePurchases', \n",
    "    ], \n",
    "    axis=1 # Definindo que colunas serão excluídas\n",
    ") "
   ]
  },
  {
   "cell_type": "markdown",
   "metadata": {},
   "source": [
    "### Ordenando as colunas relacionadas"
   ]
  },
  {
   "cell_type": "code",
   "execution_count": 26,
   "metadata": {},
   "outputs": [],
   "source": [
    "df = df.reindex(columns=[ # Ordenando as colunas em uma ordem que faz mais sentido para análises\n",
    "        'Education', \n",
    "        'Marital_Status', \n",
    "        'Children',\n",
    "        'HasChildren',\n",
    "        'Age',\n",
    "        'AgeGroup',\n",
    "        'Income',\n",
    "        'Recency',\n",
    "        'Complain',\n",
    "        'Days_Since_Enrolled',\n",
    "        'Years_Since_Enrolled',\n",
    "        'NumDealsPurchases',\n",
    "        'NumWebVisitsMonth',\n",
    "        'NumTotalPurchases',\n",
    "        'MntRegularProds',\n",
    "        'MntGoldProds',\n",
    "        'MntTotal',\n",
    "        'AcceptedCmpTotal',\n",
    "        'HasAcceptedCmp',\n",
    "        'Response',\n",
    "    ]\n",
    ")"
   ]
  },
  {
   "cell_type": "markdown",
   "metadata": {},
   "source": [
    "### Salvando o dataset lean"
   ]
  },
  {
   "cell_type": "code",
   "execution_count": 27,
   "metadata": {},
   "outputs": [],
   "source": [
    "df.to_csv(consts.DATASET_LEAN, index=False) # Salvando o dataset lean"
   ]
  },
  {
   "cell_type": "markdown",
   "metadata": {},
   "source": [
    "### Gerando um novo relatório Profile Report"
   ]
  },
  {
   "cell_type": "code",
   "execution_count": null,
   "metadata": {},
   "outputs": [],
   "source": [
    "profile = ProfileReport(df) # Armazenando em uma variável o ProfileReport\n",
    "\n",
    "profile.to_file(consts.EDA_1) # Salvando o profile report na pasta reports em formato html"
   ]
  }
 ],
 "metadata": {
  "kernelspec": {
   "display_name": "Python 3",
   "language": "python",
   "name": "python3"
  },
  "language_info": {
   "codemirror_mode": {
    "name": "ipython",
    "version": 3
   },
   "file_extension": ".py",
   "mimetype": "text/x-python",
   "name": "python",
   "nbconvert_exporter": "python",
   "pygments_lexer": "ipython3",
   "version": "3.12.4"
  }
 },
 "nbformat": 4,
 "nbformat_minor": 2
}
