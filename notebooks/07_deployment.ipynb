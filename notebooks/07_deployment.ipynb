{
 "cells": [
  {
   "cell_type": "markdown",
   "metadata": {},
   "source": [
    "# 07. Deployment"
   ]
  },
  {
   "cell_type": "markdown",
   "metadata": {},
   "source": [
    "### Importando as bibliotecas"
   ]
  },
  {
   "cell_type": "code",
   "execution_count": 1,
   "metadata": {},
   "outputs": [],
   "source": [
    "import sys\n",
    "sys.path.append('..')\n",
    "import pandas as pd\n",
    "import params.consts as consts\n",
    "import joblib"
   ]
  },
  {
   "cell_type": "markdown",
   "metadata": {},
   "source": [
    "### Carregando o modelo"
   ]
  },
  {
   "cell_type": "code",
   "execution_count": 2,
   "metadata": {},
   "outputs": [],
   "source": [
    "model_recomendation = joblib.load(consts.MODEL_RECOMENDATION_JOBLIB) # Carregando o modelo "
   ]
  },
  {
   "cell_type": "markdown",
   "metadata": {},
   "source": [
    "### Lendo o dataset"
   ]
  },
  {
   "cell_type": "code",
   "execution_count": 3,
   "metadata": {},
   "outputs": [],
   "source": [
    "df_pivot = pd.read_csv(consts.DATASET_PIVOT) # Armazenando o dataset pivot em uma variável"
   ]
  },
  {
   "cell_type": "code",
   "execution_count": null,
   "metadata": {},
   "outputs": [
    {
     "data": {
      "text/html": [
       "<div>\n",
       "<style scoped>\n",
       "    .dataframe tbody tr th:only-of-type {\n",
       "        vertical-align: middle;\n",
       "    }\n",
       "\n",
       "    .dataframe tbody tr th {\n",
       "        vertical-align: top;\n",
       "    }\n",
       "\n",
       "    .dataframe thead th {\n",
       "        text-align: right;\n",
       "    }\n",
       "</style>\n",
       "<table border=\"1\" class=\"dataframe\">\n",
       "  <thead>\n",
       "    <tr style=\"text-align: right;\">\n",
       "      <th></th>\n",
       "      <th>original_title</th>\n",
       "      <th>229</th>\n",
       "      <th>231</th>\n",
       "      <th>741</th>\n",
       "      <th>836</th>\n",
       "      <th>1104</th>\n",
       "      <th>1136</th>\n",
       "      <th>1243</th>\n",
       "      <th>1380</th>\n",
       "      <th>1652</th>\n",
       "      <th>...</th>\n",
       "      <th>269632</th>\n",
       "      <th>269750</th>\n",
       "      <th>269913</th>\n",
       "      <th>270071</th>\n",
       "      <th>270123</th>\n",
       "      <th>270213</th>\n",
       "      <th>270237</th>\n",
       "      <th>270564</th>\n",
       "      <th>270654</th>\n",
       "      <th>270887</th>\n",
       "    </tr>\n",
       "  </thead>\n",
       "  <tbody>\n",
       "    <tr>\n",
       "      <th>0</th>\n",
       "      <td>10 Things I Hate About You</td>\n",
       "      <td>0.0</td>\n",
       "      <td>0.0</td>\n",
       "      <td>0.0</td>\n",
       "      <td>0.0</td>\n",
       "      <td>0.0</td>\n",
       "      <td>0.0</td>\n",
       "      <td>0.0</td>\n",
       "      <td>0.0</td>\n",
       "      <td>0.0</td>\n",
       "      <td>...</td>\n",
       "      <td>0.0</td>\n",
       "      <td>2.5</td>\n",
       "      <td>0.0</td>\n",
       "      <td>3.0</td>\n",
       "      <td>3.0</td>\n",
       "      <td>0.0</td>\n",
       "      <td>0.0</td>\n",
       "      <td>0.0</td>\n",
       "      <td>0.0</td>\n",
       "      <td>0.0</td>\n",
       "    </tr>\n",
       "    <tr>\n",
       "      <th>1</th>\n",
       "      <td>12 Angry Men</td>\n",
       "      <td>0.0</td>\n",
       "      <td>0.0</td>\n",
       "      <td>0.0</td>\n",
       "      <td>0.0</td>\n",
       "      <td>0.0</td>\n",
       "      <td>0.0</td>\n",
       "      <td>0.0</td>\n",
       "      <td>0.0</td>\n",
       "      <td>0.0</td>\n",
       "      <td>...</td>\n",
       "      <td>0.0</td>\n",
       "      <td>0.0</td>\n",
       "      <td>0.0</td>\n",
       "      <td>0.0</td>\n",
       "      <td>0.0</td>\n",
       "      <td>0.0</td>\n",
       "      <td>0.0</td>\n",
       "      <td>0.0</td>\n",
       "      <td>3.5</td>\n",
       "      <td>0.0</td>\n",
       "    </tr>\n",
       "    <tr>\n",
       "      <th>2</th>\n",
       "      <td>127 Hours</td>\n",
       "      <td>0.0</td>\n",
       "      <td>0.0</td>\n",
       "      <td>0.0</td>\n",
       "      <td>0.0</td>\n",
       "      <td>0.0</td>\n",
       "      <td>0.0</td>\n",
       "      <td>0.0</td>\n",
       "      <td>0.0</td>\n",
       "      <td>0.0</td>\n",
       "      <td>...</td>\n",
       "      <td>0.0</td>\n",
       "      <td>0.0</td>\n",
       "      <td>0.0</td>\n",
       "      <td>0.0</td>\n",
       "      <td>0.0</td>\n",
       "      <td>0.0</td>\n",
       "      <td>0.0</td>\n",
       "      <td>0.0</td>\n",
       "      <td>0.0</td>\n",
       "      <td>0.0</td>\n",
       "    </tr>\n",
       "    <tr>\n",
       "      <th>3</th>\n",
       "      <td>1408</td>\n",
       "      <td>0.0</td>\n",
       "      <td>0.0</td>\n",
       "      <td>0.0</td>\n",
       "      <td>0.0</td>\n",
       "      <td>0.0</td>\n",
       "      <td>0.0</td>\n",
       "      <td>0.0</td>\n",
       "      <td>0.0</td>\n",
       "      <td>0.0</td>\n",
       "      <td>...</td>\n",
       "      <td>0.0</td>\n",
       "      <td>0.0</td>\n",
       "      <td>0.0</td>\n",
       "      <td>0.0</td>\n",
       "      <td>2.5</td>\n",
       "      <td>2.0</td>\n",
       "      <td>0.0</td>\n",
       "      <td>0.0</td>\n",
       "      <td>0.0</td>\n",
       "      <td>0.0</td>\n",
       "    </tr>\n",
       "    <tr>\n",
       "      <th>4</th>\n",
       "      <td>2 Fast 2 Furious</td>\n",
       "      <td>0.0</td>\n",
       "      <td>0.0</td>\n",
       "      <td>0.0</td>\n",
       "      <td>0.0</td>\n",
       "      <td>0.0</td>\n",
       "      <td>0.0</td>\n",
       "      <td>0.0</td>\n",
       "      <td>0.0</td>\n",
       "      <td>0.0</td>\n",
       "      <td>...</td>\n",
       "      <td>0.0</td>\n",
       "      <td>0.0</td>\n",
       "      <td>0.0</td>\n",
       "      <td>0.0</td>\n",
       "      <td>0.0</td>\n",
       "      <td>0.0</td>\n",
       "      <td>0.0</td>\n",
       "      <td>0.0</td>\n",
       "      <td>0.0</td>\n",
       "      <td>0.0</td>\n",
       "    </tr>\n",
       "  </tbody>\n",
       "</table>\n",
       "<p>5 rows × 2510 columns</p>\n",
       "</div>"
      ],
      "text/plain": [
       "               original_title  229  231  741  836  1104  1136  1243  1380  \\\n",
       "0  10 Things I Hate About You  0.0  0.0  0.0  0.0   0.0   0.0   0.0   0.0   \n",
       "1                12 Angry Men  0.0  0.0  0.0  0.0   0.0   0.0   0.0   0.0   \n",
       "2                   127 Hours  0.0  0.0  0.0  0.0   0.0   0.0   0.0   0.0   \n",
       "3                        1408  0.0  0.0  0.0  0.0   0.0   0.0   0.0   0.0   \n",
       "4            2 Fast 2 Furious  0.0  0.0  0.0  0.0   0.0   0.0   0.0   0.0   \n",
       "\n",
       "   1652  ...  269632  269750  269913  270071  270123  270213  270237  270564  \\\n",
       "0   0.0  ...     0.0     2.5     0.0     3.0     3.0     0.0     0.0     0.0   \n",
       "1   0.0  ...     0.0     0.0     0.0     0.0     0.0     0.0     0.0     0.0   \n",
       "2   0.0  ...     0.0     0.0     0.0     0.0     0.0     0.0     0.0     0.0   \n",
       "3   0.0  ...     0.0     0.0     0.0     0.0     2.5     2.0     0.0     0.0   \n",
       "4   0.0  ...     0.0     0.0     0.0     0.0     0.0     0.0     0.0     0.0   \n",
       "\n",
       "   270654  270887  \n",
       "0     0.0     0.0  \n",
       "1     3.5     0.0  \n",
       "2     0.0     0.0  \n",
       "3     0.0     0.0  \n",
       "4     0.0     0.0  \n",
       "\n",
       "[5 rows x 2510 columns]"
      ]
     },
     "execution_count": 4,
     "metadata": {},
     "output_type": "execute_result"
    }
   ],
   "source": [
    "df_pivot.head() # Exibindo as 5 primeiras linhas do dataset"
   ]
  },
  {
   "cell_type": "markdown",
   "metadata": {},
   "source": [
    "### Realizando simulações do sistema de recomendações"
   ]
  },
  {
   "cell_type": "code",
   "execution_count": 9,
   "metadata": {},
   "outputs": [
    {
     "name": "stdout",
     "output_type": "stream",
     "text": [
      "\n",
      "Recomendações para '127 Hours':\n",
      "-  127 Hours\n",
      "-  American Hustle\n",
      "-  The Expendables 2\n",
      "-  Lord of War\n",
      "-  RED 2\n",
      "\n",
      "Recomendações para 'Toy Story':\n",
      "-  Toy Story\n",
      "-  Meet the Fockers\n",
      "-  Top Gun\n",
      "-  Harry Potter and the Chamber of Secrets\n",
      "-  Austin Powers: International Man of Mystery\n",
      "\n",
      "Recomendações para '1408':\n",
      "-  1408\n",
      "-  Pirates of the Caribbean: At World's End\n",
      "-  Platoon\n",
      "-  Snitch\n",
      "-  The Expendables 2\n",
      "\n",
      "Recomendações para '2 Fast 2 Furious':\n",
      "-  2 Fast 2 Furious\n",
      "-  Bambi\n",
      "-  The Matrix Reloaded\n",
      "-  Brokeback Mountain\n",
      "-  Lord of War\n"
     ]
    }
   ],
   "source": [
    "movies = ['127 Hours', 'Toy Story', '1408', '2 Fast 2 Furious'] # Listando os filmes que serão simulados para recomendações\n",
    "\n",
    "for movie in movies: # Criando uma estrutura de repetição para gerar as recomendações para cada filme\n",
    "    \n",
    "    movie_data = df_pivot[df_pivot['original_title'] == movie].drop(columns=['original_title']).values.reshape(1, -1) # Filtrando a linha do filme para gerar as recomendações\n",
    "\n",
    "    distances, suggestions = model_recomendation.kneighbors(movie_data) # Obtendo as sugestões dos filmes com base no modelo\n",
    "\n",
    "    print(f\"\\nRecomendações para '{movie}':\") # Exibindo os filmes recomendados de acordo com o filme fornecido\n",
    "    for index in suggestions[0]:\n",
    "        print('- ', df_pivot.loc[index, 'original_title'])"
   ]
  },
  {
   "cell_type": "markdown",
   "metadata": {},
   "source": [
    "### Realizando o deploy do modelo em formato ipynb"
   ]
  },
  {
   "cell_type": "markdown",
   "metadata": {},
   "source": [
    "##### Instruções de uso:\n",
    "\n",
    "1. Crie um arquivo conforme o modelo, renome-o para **\"dataset_deploy.csv\"** e coloque-o na pasta **\"data\"** desse projeto\n",
    "2. Na pasta **\"deploys\"**, abra o arquivo **\"classification_notebook.ipynb\"** e execute-o\n",
    "3. Pronto, as previsões foram feitas. Para acessá-las é só abrir o novo arquivo criado na pasta **\"data\"** chamado **\"dataset_deployed.csv\"**"
   ]
  },
  {
   "cell_type": "markdown",
   "metadata": {},
   "source": [
    "### Realizando o deploy do modelo em formato py"
   ]
  },
  {
   "cell_type": "markdown",
   "metadata": {},
   "source": [
    "##### Instruções de uso:\n",
    "\n",
    "1. Crie um arquivo conforme o modelo, renome-o para **\"dataset_deploy.csv\"** e coloque-o na pasta **\"data\"** desse projeto\n",
    "2. No **terminal**, digite **cd + \"caminho da pasta\"** (o caminho deve estar entre aspas) e dê enter para entrar na pasta pelo terminal. Para copiar o caminho da pasta basta navegar até o arquivo no explorador de arquivos, clicar no caminho exibido na barra de navegação e copiar \n",
    "3. Agora digite **python classification_python.py** e dê enter\n",
    "4. Pronto, as previsões foram feitas. Para acessá-las é só abrir o novo arquivo criado na pasta **\"data\"** chamado **\"dataset_deployed.csv\"**"
   ]
  },
  {
   "cell_type": "markdown",
   "metadata": {},
   "source": [
    "### Realizando o deploy do modelo em um arquivo executável"
   ]
  },
  {
   "cell_type": "markdown",
   "metadata": {},
   "source": [
    "Nesse projeto, não será utilizado o deploy do modelo em um arquivo executável devido a ter a necessidade de se criar um ambiente virtual para que esse arquivo executável possa ser executado em qualquer local. A principal justificativa para isso é que em um ambiente virtual é preciso instalar todas as bibliotecas usadas durante o projeto, o que tornaria o arquivo muito grande e portanto, inviável para subir no Github."
   ]
  },
  {
   "cell_type": "markdown",
   "metadata": {},
   "source": [
    "### Realizando o deploy do modelo em Streamlit (.py)"
   ]
  },
  {
   "cell_type": "markdown",
   "metadata": {},
   "source": [
    "##### Instruções de uso:\n",
    "\n",
    "1. No **terminal**, digite **cd + \"caminho da pasta\"** (o caminho deve estar entre aspas) e dê enter para entrar na pasta pelo terminal. Para copiar o caminho da pasta basta navegar até o arquivo no explorador de arquivos, clicar no caminho exibido na barra de navegação e copiar \n",
    "2. Agora digite **streamlit run classification_streamlit.py** e dê enter\n",
    "3. Pronto, as previsões foram feitas. A resposta do modelo é exibida na própria tela ao preencher todos os campos"
   ]
  }
 ],
 "metadata": {
  "kernelspec": {
   "display_name": "Python 3",
   "language": "python",
   "name": "python3"
  },
  "language_info": {
   "codemirror_mode": {
    "name": "ipython",
    "version": 3
   },
   "file_extension": ".py",
   "mimetype": "text/x-python",
   "name": "python",
   "nbconvert_exporter": "python",
   "pygments_lexer": "ipython3",
   "version": "3.12.4"
  }
 },
 "nbformat": 4,
 "nbformat_minor": 2
}
